{
  "nbformat": 4,
  "nbformat_minor": 0,
  "metadata": {
    "colab": {
      "provenance": [],
      "authorship_tag": "ABX9TyPpjfU5Mc8YmcdrFrwECNPs",
      "include_colab_link": true
    },
    "kernelspec": {
      "name": "python3",
      "display_name": "Python 3"
    },
    "language_info": {
      "name": "python"
    }
  },
  "cells": [
    {
      "cell_type": "markdown",
      "metadata": {
        "id": "view-in-github",
        "colab_type": "text"
      },
      "source": [
        "<a href=\"https://colab.research.google.com/github/ansonkwokth/PlackettLuceModel/blob/main/example_dataframe.ipynb\" target=\"_parent\"><img src=\"https://colab.research.google.com/assets/colab-badge.svg\" alt=\"Open In Colab\"/></a>"
      ]
    },
    {
      "cell_type": "code",
      "execution_count": 1,
      "metadata": {
        "id": "Ex4d5F5oFy3q"
      },
      "outputs": [],
      "source": [
        "# # Clone the repository\n",
        "# !git clone https://github.com/ansonkwokth/PlackettLuceModel.git\n",
        "\n",
        "# # Navigate to the project directory\n",
        "# %cd /content/PlackettLuceModel\n",
        "\n",
        "# # Install dependencies\n",
        "# !pip install ."
      ]
    },
    {
      "cell_type": "code",
      "source": [
        "# !python ./scripts/generate_example_data.py"
      ],
      "metadata": {
        "id": "Mcz2_7EgF1tv"
      },
      "execution_count": 2,
      "outputs": []
    },
    {
      "cell_type": "markdown",
      "source": [
        "## Import"
      ],
      "metadata": {
        "id": "C9ik7UdpLXg7"
      }
    },
    {
      "cell_type": "code",
      "source": [
        "%cd /content/PlackettLuceModel\n",
        "from plackett_luce.utils import DataLoader\n",
        "from plackett_luce.model import PlackettLuceModel\n",
        "from plackett_luce.utils import EarlyStopper\n",
        "\n",
        "import pandas as pd\n",
        "import numpy as np\n",
        "import torch\n",
        "from torch import nn\n",
        "\n",
        "torch.manual_seed(0);"
      ],
      "metadata": {
        "colab": {
          "base_uri": "https://localhost:8080/"
        },
        "id": "gRneQt0mGT8h",
        "outputId": "06a215e7-8c24-437f-fcd1-e1e95854e78b"
      },
      "execution_count": 3,
      "outputs": [
        {
          "output_type": "stream",
          "name": "stdout",
          "text": [
            "/content/PlackettLuceModel\n"
          ]
        }
      ]
    },
    {
      "cell_type": "code",
      "source": [
        "df = pd.read_csv(\"./data/example_data/example_data.csv\")"
      ],
      "metadata": {
        "id": "-imwsDXqGT7J"
      },
      "execution_count": 4,
      "outputs": []
    },
    {
      "cell_type": "code",
      "source": [
        "X, rankings, mask = DataLoader().transform(df)"
      ],
      "metadata": {
        "id": "uIQ1jXx7HnGQ"
      },
      "execution_count": 5,
      "outputs": []
    },
    {
      "cell_type": "code",
      "source": [],
      "metadata": {
        "id": "U6hPAsKhIGdw"
      },
      "execution_count": 8,
      "outputs": []
    },
    {
      "cell_type": "code",
      "source": [
        "n_train = 1000\n",
        "X_train = X[:n_train]\n",
        "rankings_train = rankings[:n_train]\n",
        "mask_train = mask[:n_train]"
      ],
      "metadata": {
        "id": "b6xD2oGVICFY"
      },
      "execution_count": 38,
      "outputs": []
    },
    {
      "cell_type": "code",
      "source": [
        "# Custom neural network model for flexible scoring\n",
        "class NaiveNN(nn.Module):\n",
        "    def __init__(self, input_dim):\n",
        "        super(NaiveNN, self).__init__()\n",
        "        self.network = nn.Sequential(\n",
        "            nn.Linear(input_dim, 16),\n",
        "            nn.ReLU(),\n",
        "            nn.Linear(16, 1)  # 1D output for scoring\n",
        "        )\n",
        "\n",
        "    def forward(self, x):\n",
        "        return self.network(x)\n",
        "\n",
        "\n",
        "\n",
        "\n",
        "\n",
        "# Custom neural network model for flexible scoring\n",
        "class LessNaiveNN(nn.Module):\n",
        "    def __init__(self, input_dim):\n",
        "        super(LessNaiveNN, self).__init__()\n",
        "        self.network = nn.Sequential(\n",
        "            nn.Linear(input_dim, 16),\n",
        "            nn.ReLU(),\n",
        "            nn.Linear(16, 8),\n",
        "            nn.ReLU(),\n",
        "            nn.Linear(8, 4),\n",
        "            nn.ReLU(),\n",
        "            nn.Linear(4, 1)  # 1D output for scoring\n",
        "        )\n",
        "\n",
        "    def forward(self, x):\n",
        "        return self.network(x)"
      ],
      "metadata": {
        "id": "QTHlGVJ-IPuk"
      },
      "execution_count": 39,
      "outputs": []
    },
    {
      "cell_type": "code",
      "source": [],
      "metadata": {
        "id": "8QaaS-3uJsAq"
      },
      "execution_count": 39,
      "outputs": []
    },
    {
      "cell_type": "code",
      "source": [
        "# Initialize the model\n",
        "num_features = X_train.shape[-1]\n",
        "# custom_nn = NaiveNN(input_dim=num_features)\n",
        "custom_nn = LessNaiveNN(input_dim=num_features)\n",
        "# Custom early stopper\n",
        "custom_early_stopper = EarlyStopper(patience=5, min_delta=0.01)\n",
        "model = PlackettLuceModel(score_model=custom_nn, early_stopper=custom_early_stopper)\n",
        "print(f\"Trainable params: {sum(p.numel() for p in model.parameters() if p.requires_grad)}\")\n",
        "\n",
        "# Training\n",
        "print(\"Training the model...\")\n",
        "\n",
        "model.fit(X_train, rankings_train, lr=0.01, epochs=500, top_k=3, item_mask=mask_train)\n",
        "\n"
      ],
      "metadata": {
        "colab": {
          "base_uri": "https://localhost:8080/"
        },
        "id": "mCoiqdX0Gkou",
        "outputId": "9d29e1d3-e448-4e53-959b-9c74f53d0977"
      },
      "execution_count": 40,
      "outputs": [
        {
          "output_type": "stream",
          "name": "stdout",
          "text": [
            "Trainable params: 433\n",
            "Training the model...\n",
            "Epoch 10/500, Negative Log-Likelihood: 7.3377\n",
            "Epoch 20/500, Negative Log-Likelihood: 6.7862\n",
            "Epoch 30/500, Negative Log-Likelihood: 5.9639\n",
            "Epoch 40/500, Negative Log-Likelihood: 4.7617\n",
            "Epoch 50/500, Negative Log-Likelihood: 4.0406\n",
            "Epoch 60/500, Negative Log-Likelihood: 3.8171\n",
            "Epoch 70/500, Negative Log-Likelihood: 3.6588\n",
            "Epoch 80/500, Negative Log-Likelihood: 3.5560\n",
            "Epoch 90/500, Negative Log-Likelihood: 3.4771\n",
            "Early stopping at epoch 97 with NLL 3.4312\n"
          ]
        }
      ]
    },
    {
      "cell_type": "code",
      "source": [
        "n_test = -1000\n",
        "X_test = X[n_test:]\n",
        "rankings_test = rankings[n_test:]\n",
        "mask_test = mask[n_test:]"
      ],
      "metadata": {
        "id": "5ODtY31KLh3V"
      },
      "execution_count": 45,
      "outputs": []
    },
    {
      "cell_type": "code",
      "source": [
        "pred_test = model.predict(X_test)\n",
        "pred_test = torch.tensor(pred_test)"
      ],
      "metadata": {
        "id": "BEUAuaAYKIxw"
      },
      "execution_count": 46,
      "outputs": []
    },
    {
      "cell_type": "code",
      "source": [
        "pred_test[mask_test == 0] = -99"
      ],
      "metadata": {
        "id": "Borxk-MJKGln"
      },
      "execution_count": 47,
      "outputs": []
    },
    {
      "cell_type": "code",
      "source": [],
      "metadata": {
        "id": "hwcMJJnWL5G-"
      },
      "execution_count": null,
      "outputs": []
    },
    {
      "cell_type": "code",
      "source": [
        "\n",
        "for i in range(10):\n",
        "    print(\"instance\", i+1)\n",
        "    print(\"Pred first 5\", pred_test[i][:5].tolist())\n",
        "    print(\"True first 5\", rankings_test[i][:5].tolist())\n",
        "    print()"
      ],
      "metadata": {
        "colab": {
          "base_uri": "https://localhost:8080/"
        },
        "id": "8fPEjY-WKz1G",
        "outputId": "71e7f7c4-9aa3-45fc-e6db-8cb18c82a8c2"
      },
      "execution_count": 59,
      "outputs": [
        {
          "output_type": "stream",
          "name": "stdout",
          "text": [
            "instance 1\n",
            "Pred first 5 [9, 8, 13, 6, 2]\n",
            "True first 5 [9, 6, 13, 8, 3]\n",
            "\n",
            "instance 2\n",
            "Pred first 5 [10, 0, 9, 2, 4]\n",
            "True first 5 [9, 10, 4, 5, 2]\n",
            "\n",
            "instance 3\n",
            "Pred first 5 [4, 5, 3, 0, 6]\n",
            "True first 5 [4, 5, 2, 3, 0]\n",
            "\n",
            "instance 4\n",
            "Pred first 5 [0, 3, 8, 1, 5]\n",
            "True first 5 [0, 1, 3, 5, 9]\n",
            "\n",
            "instance 5\n",
            "Pred first 5 [6, 1, 2, 10, 0]\n",
            "True first 5 [6, 1, 10, 11, 2]\n",
            "\n",
            "instance 6\n",
            "Pred first 5 [8, 13, 4, 12, 10]\n",
            "True first 5 [13, 8, 12, 3, 11]\n",
            "\n",
            "instance 7\n",
            "Pred first 5 [7, 2, 1, 6, 3]\n",
            "True first 5 [7, 2, 1, 6, 3]\n",
            "\n",
            "instance 8\n",
            "Pred first 5 [9, 4, 10, 8, 5]\n",
            "True first 5 [9, 4, 10, 8, 7]\n",
            "\n",
            "instance 9\n",
            "Pred first 5 [3, 2, 8, 4, 7]\n",
            "True first 5 [8, 3, 2, 7, 9]\n",
            "\n",
            "instance 10\n",
            "Pred first 5 [2, 9, 5, 4, 3]\n",
            "True first 5 [2, 5, 9, 4, 3]\n",
            "\n"
          ]
        }
      ]
    },
    {
      "cell_type": "code",
      "source": [],
      "metadata": {
        "id": "-WYwbGCqK1DV"
      },
      "execution_count": 57,
      "outputs": []
    },
    {
      "cell_type": "code",
      "source": [],
      "metadata": {
        "id": "NJ41bA0bL77k"
      },
      "execution_count": null,
      "outputs": []
    }
  ]
}